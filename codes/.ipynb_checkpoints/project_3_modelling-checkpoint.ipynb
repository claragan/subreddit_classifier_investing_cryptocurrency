{
 "cells": [
  {
   "cell_type": "markdown",
   "id": "55f84b24",
   "metadata": {},
   "source": [
    "# Project 3: Natural Language Processing of Subreddit Posts"
   ]
  },
  {
   "cell_type": "markdown",
   "id": "682cc239",
   "metadata": {},
   "source": [
    "### Contents:\n",
    "\n",
    "- [Modelling](#Modelling)\n",
    "- [Feature Importance](#Feature-Importance)\n",
    "- [Misclassification Analysis](#Misclassification-Analysis)\n",
    "- [Conclusions & Recommendations](#Conclusions-&-Recommendations)"
   ]
  },
  {
   "cell_type": "markdown",
   "id": "b276d438",
   "metadata": {},
   "source": [
    "### Import Libraries"
   ]
  },
  {
   "cell_type": "code",
   "execution_count": 1,
   "id": "378b8a09",
   "metadata": {},
   "outputs": [],
   "source": [
    "# Import standard libraries\n",
    "import pandas as pd\n",
    "import numpy as np\n",
    "import matplotlib.pyplot as plt\n",
    "%matplotlib inline\n",
    "import seaborn as sns\n",
    "from wordcloud import WordCloud, STOPWORDS, ImageColorGenerator\n",
    "from PIL import Image\n",
    "\n",
    "# Import time- and API- related libraries\n",
    "import time, requests\n",
    "from datetime import datetime\n",
    "import json\n",
    "\n",
    "# Import warnings to remove flags when project is complete\n",
    "import warnings\n",
    "warnings.filterwarnings('ignore')\n",
    "\n",
    "#import pre-processing libraries for cleaning the data\n",
    "import string\n",
    "import re\n",
    "import nltk\n",
    "from nltk.tokenize import RegexpTokenizer, sent_tokenize, word_tokenize\n",
    "from nltk.stem import WordNetLemmatizer\n",
    "from nltk.corpus import stopwords\n",
    "\n",
    "pd.set_option('display.max_colwidth', 100)\n",
    "\n",
    "# Import modelling-related libraries\n",
    "from sklearn.preprocessing import StandardScaler\n",
    "from sklearn.model_selection import train_test_split, cross_val_score, cross_val_predict, GridSearchCV\n",
    "from sklearn.pipeline import Pipeline\n",
    "from sklearn.linear_model import LogisticRegressionCV, LogisticRegression\n",
    "from sklearn.naive_bayes import MultinomialNB\n",
    "from sklearn.feature_extraction.text import CountVectorizer, TfidfVectorizer\n",
    "from sklearn import metrics\n",
    "from sklearn.metrics import classification_report, confusion_matrix, plot_confusion_matrix, precision_score, recall_score, accuracy_score, plot_roc_curve, roc_auc_score, f1_score"
   ]
  },
  {
   "cell_type": "code",
   "execution_count": 2,
   "id": "673772d7",
   "metadata": {},
   "outputs": [],
   "source": [
    "# read the dataset \n",
    "combined_df2 = pd.read_csv('../project_3/data/combined_df2.csv')"
   ]
  },
  {
   "cell_type": "markdown",
   "id": "c904d3aa",
   "metadata": {},
   "source": [
    "## Modelling"
   ]
  },
  {
   "cell_type": "markdown",
   "id": "85de3780",
   "metadata": {},
   "source": [
    "### Create Train Test Sets"
   ]
  },
  {
   "cell_type": "code",
   "execution_count": 3,
   "id": "8c2b8bc2",
   "metadata": {},
   "outputs": [],
   "source": [
    "# train_test_split\n",
    "X = combined_df2['all_text']\n",
    "y = combined_df2['subreddit']"
   ]
  },
  {
   "cell_type": "code",
   "execution_count": 4,
   "id": "828d942c",
   "metadata": {},
   "outputs": [],
   "source": [
    "X_train, X_test, y_train, y_test = train_test_split(X,\n",
    "                                                    y,\n",
    "                                                    test_size = 0.3,\n",
    "                                                    random_state = 42,\n",
    "                                                    stratify = y)"
   ]
  },
  {
   "cell_type": "code",
   "execution_count": 18,
   "id": "c5f83bc7",
   "metadata": {},
   "outputs": [
    {
     "name": "stdout",
     "output_type": "stream",
     "text": [
      "(1469,)\n",
      "(1469,)\n",
      "(630,)\n",
      "(630,)\n"
     ]
    }
   ],
   "source": [
    "print(X_train.shape)\n",
    "print(y_train.shape)\n",
    "print(X_test.shape)\n",
    "print(y_test.shape)"
   ]
  },
  {
   "cell_type": "markdown",
   "id": "605e9752",
   "metadata": {},
   "source": [
    "### Baseline Model"
   ]
  },
  {
   "cell_type": "code",
   "execution_count": 19,
   "id": "4b669ada",
   "metadata": {},
   "outputs": [
    {
     "data": {
      "text/plain": [
       "1    0.500238\n",
       "0    0.499762\n",
       "Name: subreddit, dtype: float64"
      ]
     },
     "execution_count": 19,
     "metadata": {},
     "output_type": "execute_result"
    }
   ],
   "source": [
    "#Baseline model\n",
    "\n",
    "combined_df2['subreddit'].value_counts(normalize=True)\n",
    "\n",
    "# the classes are balanced, each are 50%"
   ]
  },
  {
   "cell_type": "markdown",
   "id": "69a8ff9b",
   "metadata": {},
   "source": [
    "We use the higher probability of 'subreddit' as the baseline. However, we note that both subreddits have equal probability. Obtaining the probability distribution, we find that given a random text, choosing 'investing' as the subreddit gives us a 50% chance of being correct. Hence, our baseline model is 50%."
   ]
  },
  {
   "cell_type": "markdown",
   "id": "967f2ff6",
   "metadata": {},
   "source": [
    "### Create performance tracking table\n",
    "\n",
    "Here, we create a table to track the performance of various models as we attempt to find better models or feature engineering to improve our performance. \n",
    "\n",
    "Below are the definitions of the performance metrics:\n",
    "\n",
    "- Accuracy: totoal correct predictions divided by all predictions\n",
    "- Sensitivity: true positive rate (correct positive predictions divided by total positives)\n",
    "- Specificity: true negative rate (correct negative predictions divided by total negatives)\n",
    "- Precision: positive predictive value (correct positive predictions divided by all positive predictions)\n",
    "- Misclassification: totoal incorrect predictions dividided by all predictions\n",
    "    "
   ]
  },
  {
   "cell_type": "code",
   "execution_count": 20,
   "id": "45daa23a",
   "metadata": {},
   "outputs": [],
   "source": [
    "# Create empty results dataframe\n",
    "df_results = pd.DataFrame(\n",
    "    columns = [\n",
    "        'Model No.',\n",
    "        'Word Vectorizer',\n",
    "        'Classifier',\n",
    "        'CV Score (train)',\n",
    "        'Accuracy (train)',\n",
    "        'Accuracy (test)',\n",
    "        'Sensitivity (test)',\n",
    "        'Specificity (test)',\n",
    "        'Precision (test)',\n",
    "        'Misclassification (test)',\n",
    "        'Runtime (sec)',\n",
    "#         'Best Parameters',\n",
    "        'Remarks'\n",
    "    ]\n",
    ")"
   ]
  },
  {
   "cell_type": "code",
   "execution_count": 21,
   "id": "753535d4",
   "metadata": {},
   "outputs": [
    {
     "data": {
      "text/html": [
       "<div>\n",
       "<style scoped>\n",
       "    .dataframe tbody tr th:only-of-type {\n",
       "        vertical-align: middle;\n",
       "    }\n",
       "\n",
       "    .dataframe tbody tr th {\n",
       "        vertical-align: top;\n",
       "    }\n",
       "\n",
       "    .dataframe thead th {\n",
       "        text-align: right;\n",
       "    }\n",
       "</style>\n",
       "<table border=\"1\" class=\"dataframe\">\n",
       "  <thead>\n",
       "    <tr style=\"text-align: right;\">\n",
       "      <th></th>\n",
       "      <th>Model No.</th>\n",
       "      <th>Word Vectorizer</th>\n",
       "      <th>Classifier</th>\n",
       "      <th>CV Score (train)</th>\n",
       "      <th>Accuracy (train)</th>\n",
       "      <th>Accuracy (test)</th>\n",
       "      <th>Sensitivity (test)</th>\n",
       "      <th>Specificity (test)</th>\n",
       "      <th>Precision (test)</th>\n",
       "      <th>Misclassification (test)</th>\n",
       "      <th>Runtime (sec)</th>\n",
       "      <th>Remarks</th>\n",
       "    </tr>\n",
       "  </thead>\n",
       "  <tbody>\n",
       "  </tbody>\n",
       "</table>\n",
       "</div>"
      ],
      "text/plain": [
       "Empty DataFrame\n",
       "Columns: [Model No., Word Vectorizer, Classifier, CV Score (train), Accuracy (train), Accuracy (test), Sensitivity (test), Specificity (test), Precision (test), Misclassification (test), Runtime (sec), Remarks]\n",
       "Index: []"
      ]
     },
     "execution_count": 21,
     "metadata": {},
     "output_type": "execute_result"
    }
   ],
   "source": [
    "df_results"
   ]
  },
  {
   "cell_type": "markdown",
   "id": "309a8ccc",
   "metadata": {},
   "source": [
    "### Create custom function\n",
    "\n",
    "Below is a custom function that automates a few steps:\n",
    "- Instantiate a GridSearchCV\n",
    "- Fit on train set\n",
    "- Create confusion matrix on test set\n",
    "- Print results of best parameters, best score, train score, test score and various confusion matrix metrics"
   ]
  },
  {
   "cell_type": "code",
   "execution_count": 22,
   "id": "350c062d",
   "metadata": {},
   "outputs": [],
   "source": [
    "# Create function to run pipe and print results\n",
    "def run_grid(X_train, X_test, y_train, y_test):\n",
    "    \n",
    "    # Start 'stopwatch' to measure runtime\n",
    "    tic = time.time()\n",
    "    \n",
    "    # Instantiate GridSearchCV\n",
    "    gs = GridSearchCV(\n",
    "        pipe, \n",
    "        param_grid = params, \n",
    "        n_jobs = -1, \n",
    "        cv = 5,\n",
    "        verbose = 1\n",
    "    )\n",
    "\n",
    "    # Fit model\n",
    "    gs.fit(X_train, y_train)\n",
    "\n",
    "    # Confusion matrix\n",
    "    y_pred = gs.predict(X_test)\n",
    "    tn, fp, fn, tp = confusion_matrix(y_test, y_pred).ravel()\n",
    "\n",
    "    # End 'stopwatch' \n",
    "    toc = time.time()\n",
    "    time_taken = toc - tic \n",
    "    \n",
    "    # Find current length of df_results\n",
    "    length = len(df_results)\n",
    "    \n",
    "    # Store results in new_row\n",
    "    new_row = [{\n",
    "        'Model No.' : length + 1,\n",
    "        'Word Vectorizer' : pipe.steps[0][1],\n",
    "        'Classifier' : pipe.steps[1][1],\n",
    "        'CV Score (train)' : round(gs.best_score_, 3),\n",
    "        'Accuracy (train)': round(gs.score(X_train, y_train), 3),\n",
    "        'Accuracy (test)' : round(gs.score(X_test, y_test) ,3 ),\n",
    "        'Sensitivity (test)' : round (tp/(tp+fn), 3),\n",
    "        'Specificity (test)' : round (tn/(tn+fp), 3),\n",
    "        'Precision (test)' : round (tp/(tp+fp), 3),\n",
    "        'Misclassification (test)' : round (1-(tp+tn)/(tn+fp+fn+tp),3),\n",
    "        'Runtime (sec)' : round(time_taken),\n",
    "#         'Best Parameters' : gs.best_params_\n",
    "    }]\n",
    "    \n",
    "    # Print best parameters from GridSearchCV\n",
    "    print('Best Parameters:', gs.best_params_)\n",
    "    \n",
    "    return new_row"
   ]
  },
  {
   "cell_type": "markdown",
   "id": "f75745aa",
   "metadata": {},
   "source": [
    "### Parametric model: Logistic Regression\n",
    "\n"
   ]
  },
  {
   "cell_type": "markdown",
   "id": "ad1eaef2",
   "metadata": {},
   "source": [
    "**CountVectorizer / Logistic**"
   ]
  },
  {
   "cell_type": "code",
   "execution_count": 23,
   "id": "66f25a5d",
   "metadata": {},
   "outputs": [
    {
     "name": "stdout",
     "output_type": "stream",
     "text": [
      "Fitting 5 folds for each of 18 candidates, totalling 90 fits\n",
      "Best Parameters: {'cvec__max_features': 2000, 'cvec__ngram_range': (1, 1), 'logit__C': 0.1, 'logit__penalty': 'l2'}\n",
      "CPU times: user 867 ms, sys: 163 ms, total: 1.03 s\n",
      "Wall time: 15.8 s\n"
     ]
    }
   ],
   "source": [
    "%%time\n",
    "\n",
    "cvec = CountVectorizer()\n",
    "logit = LogisticRegression()\n",
    "\n",
    "# Make pipe\n",
    "pipe = Pipeline([\n",
    "    ('cvec', cvec),\n",
    "    ('logit', logit)])\n",
    "\n",
    "# Set parameters\n",
    "params = {\n",
    "    'cvec__max_features' : [1000, 2000],\n",
    "    'cvec__ngram_range': [(1,1), (1,2), (1,3)],\n",
    "    'logit__C': [0.1, 1, 10],\n",
    "    'logit__penalty': ['l2'],\n",
    "    }\n",
    "\n",
    "# Run pipe in GridSearchCV and print results\n",
    "new_results = run_grid(X_train, X_test, y_train, y_test)\n",
    "df_results = pd.concat([df_results, pd.DataFrame(new_results)], axis = 0)"
   ]
  },
  {
   "cell_type": "code",
   "execution_count": 24,
   "id": "112e238e",
   "metadata": {},
   "outputs": [
    {
     "data": {
      "text/html": [
       "<div>\n",
       "<style scoped>\n",
       "    .dataframe tbody tr th:only-of-type {\n",
       "        vertical-align: middle;\n",
       "    }\n",
       "\n",
       "    .dataframe tbody tr th {\n",
       "        vertical-align: top;\n",
       "    }\n",
       "\n",
       "    .dataframe thead th {\n",
       "        text-align: right;\n",
       "    }\n",
       "</style>\n",
       "<table border=\"1\" class=\"dataframe\">\n",
       "  <thead>\n",
       "    <tr style=\"text-align: right;\">\n",
       "      <th></th>\n",
       "      <th>Model No.</th>\n",
       "      <th>Word Vectorizer</th>\n",
       "      <th>Classifier</th>\n",
       "      <th>CV Score (train)</th>\n",
       "      <th>Accuracy (train)</th>\n",
       "      <th>Accuracy (test)</th>\n",
       "      <th>Sensitivity (test)</th>\n",
       "      <th>Specificity (test)</th>\n",
       "      <th>Precision (test)</th>\n",
       "      <th>Misclassification (test)</th>\n",
       "      <th>Runtime (sec)</th>\n",
       "      <th>Remarks</th>\n",
       "    </tr>\n",
       "  </thead>\n",
       "  <tbody>\n",
       "    <tr>\n",
       "      <th>0</th>\n",
       "      <td>1</td>\n",
       "      <td>CountVectorizer()</td>\n",
       "      <td>LogisticRegression()</td>\n",
       "      <td>0.902</td>\n",
       "      <td>0.993</td>\n",
       "      <td>0.916</td>\n",
       "      <td>0.933</td>\n",
       "      <td>0.898</td>\n",
       "      <td>0.902</td>\n",
       "      <td>0.084</td>\n",
       "      <td>16</td>\n",
       "      <td>NaN</td>\n",
       "    </tr>\n",
       "  </tbody>\n",
       "</table>\n",
       "</div>"
      ],
      "text/plain": [
       "  Model No.    Word Vectorizer            Classifier  CV Score (train)  \\\n",
       "0         1  CountVectorizer()  LogisticRegression()             0.902   \n",
       "\n",
       "   Accuracy (train)  Accuracy (test)  Sensitivity (test)  Specificity (test)  \\\n",
       "0             0.993            0.916               0.933               0.898   \n",
       "\n",
       "   Precision (test)  Misclassification (test) Runtime (sec) Remarks  \n",
       "0             0.902                     0.084            16     NaN  "
      ]
     },
     "execution_count": 24,
     "metadata": {},
     "output_type": "execute_result"
    }
   ],
   "source": [
    "df_results"
   ]
  },
  {
   "cell_type": "markdown",
   "id": "f59c7030",
   "metadata": {},
   "source": [
    "Logistic model suffers from a severe case of overfitting as its train score is much higher than test (0.993 vs 0.916). Let's try out TD-IDF vectorizer on logit model"
   ]
  },
  {
   "cell_type": "markdown",
   "id": "2b2aa99d",
   "metadata": {},
   "source": [
    "**TfidfVectorizer / Logistic**"
   ]
  },
  {
   "cell_type": "code",
   "execution_count": 25,
   "id": "6ded6f80",
   "metadata": {},
   "outputs": [
    {
     "name": "stdout",
     "output_type": "stream",
     "text": [
      "Fitting 5 folds for each of 18 candidates, totalling 90 fits\n",
      "Best Parameters: {'logit__C': 10, 'logit__penalty': 'l2', 'tvec__max_features': 2000, 'tvec__ngram_range': (1, 1)}\n"
     ]
    },
    {
     "data": {
      "text/html": [
       "<div>\n",
       "<style scoped>\n",
       "    .dataframe tbody tr th:only-of-type {\n",
       "        vertical-align: middle;\n",
       "    }\n",
       "\n",
       "    .dataframe tbody tr th {\n",
       "        vertical-align: top;\n",
       "    }\n",
       "\n",
       "    .dataframe thead th {\n",
       "        text-align: right;\n",
       "    }\n",
       "</style>\n",
       "<table border=\"1\" class=\"dataframe\">\n",
       "  <thead>\n",
       "    <tr style=\"text-align: right;\">\n",
       "      <th></th>\n",
       "      <th>Model No.</th>\n",
       "      <th>Word Vectorizer</th>\n",
       "      <th>Classifier</th>\n",
       "      <th>CV Score (train)</th>\n",
       "      <th>Accuracy (train)</th>\n",
       "      <th>Accuracy (test)</th>\n",
       "      <th>Sensitivity (test)</th>\n",
       "      <th>Specificity (test)</th>\n",
       "      <th>Precision (test)</th>\n",
       "      <th>Misclassification (test)</th>\n",
       "      <th>Runtime (sec)</th>\n",
       "      <th>Remarks</th>\n",
       "    </tr>\n",
       "  </thead>\n",
       "  <tbody>\n",
       "    <tr>\n",
       "      <th>0</th>\n",
       "      <td>1</td>\n",
       "      <td>CountVectorizer()</td>\n",
       "      <td>LogisticRegression()</td>\n",
       "      <td>0.902</td>\n",
       "      <td>0.993</td>\n",
       "      <td>0.916</td>\n",
       "      <td>0.933</td>\n",
       "      <td>0.898</td>\n",
       "      <td>0.902</td>\n",
       "      <td>0.084</td>\n",
       "      <td>16</td>\n",
       "      <td>NaN</td>\n",
       "    </tr>\n",
       "    <tr>\n",
       "      <th>0</th>\n",
       "      <td>2</td>\n",
       "      <td>TfidfVectorizer()</td>\n",
       "      <td>LogisticRegression()</td>\n",
       "      <td>0.917</td>\n",
       "      <td>0.997</td>\n",
       "      <td>0.944</td>\n",
       "      <td>0.949</td>\n",
       "      <td>0.940</td>\n",
       "      <td>0.940</td>\n",
       "      <td>0.056</td>\n",
       "      <td>14</td>\n",
       "      <td>NaN</td>\n",
       "    </tr>\n",
       "  </tbody>\n",
       "</table>\n",
       "</div>"
      ],
      "text/plain": [
       "  Model No.    Word Vectorizer            Classifier  CV Score (train)  \\\n",
       "0         1  CountVectorizer()  LogisticRegression()             0.902   \n",
       "0         2  TfidfVectorizer()  LogisticRegression()             0.917   \n",
       "\n",
       "   Accuracy (train)  Accuracy (test)  Sensitivity (test)  Specificity (test)  \\\n",
       "0             0.993            0.916               0.933               0.898   \n",
       "0             0.997            0.944               0.949               0.940   \n",
       "\n",
       "   Precision (test)  Misclassification (test) Runtime (sec) Remarks  \n",
       "0             0.902                     0.084            16     NaN  \n",
       "0             0.940                     0.056            14     NaN  "
      ]
     },
     "execution_count": 25,
     "metadata": {},
     "output_type": "execute_result"
    }
   ],
   "source": [
    "# Make pipe\n",
    "pipe = Pipeline([\n",
    "    ('tvec', TfidfVectorizer()),\n",
    "    ('logit', LogisticRegression())\n",
    "])\n",
    "\n",
    "# Set parameters\n",
    "params = {\n",
    "    'tvec__max_features' : [1000, 2000],\n",
    "    'tvec__ngram_range': [(1,1), (1,2), (1,3)],\n",
    "    'logit__C': [0.1, 1, 10],\n",
    "    'logit__penalty': ['l2'],\n",
    "}\n",
    "\n",
    "# Run pipe in GridSearchCV and print results\n",
    "new_results = run_grid(X_train, X_test, y_train, y_test)\n",
    "df_results = pd.concat([df_results, pd.DataFrame(new_results)], axis = 0)\n",
    "df_results"
   ]
  },
  {
   "cell_type": "markdown",
   "id": "622b909c",
   "metadata": {},
   "source": [
    "Logit model with TF-IDF vectorizer performs slightly better than the Count vectorizer. The mean cross validation score is higher than the Count Vectorizer, and the train score is slightly higher than test (0.997 vs 0.944)."
   ]
  },
  {
   "cell_type": "markdown",
   "id": "8fb397bc",
   "metadata": {},
   "source": [
    "**Comparing Logistic Regression Results**\n",
    "\n",
    "1. Overall, we find that a logistic regression gives us a great results on the following metrics: Accuracy, Sensitivity, Specificity, Precision and Misclassification.\n",
    "2. Based on our results, a TF-IDF vectorizer had scored better for all of our metrics.\n",
    "3. The TF-IDF vectorizer has a relatively lower Misclassification Rate as compared to Count Vectorizer.\n",
    "\n",
    "Based on our findings, a TF-IDF vectorized logistic regression model performs better than a Count Vectorized logistic regression model.\n",
    "\n",
    "Conclusion: Better Vectorizer: TVEC"
   ]
  },
  {
   "cell_type": "markdown",
   "id": "f2d03e93",
   "metadata": {},
   "source": [
    "### Parametric model: MultiNomial Naive Bayes\n",
    "\n"
   ]
  },
  {
   "cell_type": "markdown",
   "id": "a8810803",
   "metadata": {},
   "source": [
    "**CountVectorizer / Multinomial**"
   ]
  },
  {
   "cell_type": "code",
   "execution_count": 27,
   "id": "387d0e9d",
   "metadata": {},
   "outputs": [
    {
     "name": "stdout",
     "output_type": "stream",
     "text": [
      "Fitting 5 folds for each of 36 candidates, totalling 180 fits\n",
      "Best Parameters: {'cvec__max_features': 2000, 'cvec__ngram_range': (1, 2), 'nb__alpha': 0.25, 'nb__fit_prior': True}\n"
     ]
    },
    {
     "data": {
      "text/html": [
       "<div>\n",
       "<style scoped>\n",
       "    .dataframe tbody tr th:only-of-type {\n",
       "        vertical-align: middle;\n",
       "    }\n",
       "\n",
       "    .dataframe tbody tr th {\n",
       "        vertical-align: top;\n",
       "    }\n",
       "\n",
       "    .dataframe thead th {\n",
       "        text-align: right;\n",
       "    }\n",
       "</style>\n",
       "<table border=\"1\" class=\"dataframe\">\n",
       "  <thead>\n",
       "    <tr style=\"text-align: right;\">\n",
       "      <th></th>\n",
       "      <th>Model No.</th>\n",
       "      <th>Word Vectorizer</th>\n",
       "      <th>Classifier</th>\n",
       "      <th>CV Score (train)</th>\n",
       "      <th>Accuracy (train)</th>\n",
       "      <th>Accuracy (test)</th>\n",
       "      <th>Sensitivity (test)</th>\n",
       "      <th>Specificity (test)</th>\n",
       "      <th>Precision (test)</th>\n",
       "      <th>Misclassification (test)</th>\n",
       "      <th>Runtime (sec)</th>\n",
       "      <th>Remarks</th>\n",
       "    </tr>\n",
       "  </thead>\n",
       "  <tbody>\n",
       "    <tr>\n",
       "      <th>0</th>\n",
       "      <td>1</td>\n",
       "      <td>CountVectorizer()</td>\n",
       "      <td>LogisticRegression()</td>\n",
       "      <td>0.902</td>\n",
       "      <td>0.993</td>\n",
       "      <td>0.916</td>\n",
       "      <td>0.933</td>\n",
       "      <td>0.898</td>\n",
       "      <td>0.902</td>\n",
       "      <td>0.084</td>\n",
       "      <td>16</td>\n",
       "      <td>NaN</td>\n",
       "    </tr>\n",
       "    <tr>\n",
       "      <th>0</th>\n",
       "      <td>2</td>\n",
       "      <td>TfidfVectorizer()</td>\n",
       "      <td>LogisticRegression()</td>\n",
       "      <td>0.917</td>\n",
       "      <td>0.997</td>\n",
       "      <td>0.944</td>\n",
       "      <td>0.949</td>\n",
       "      <td>0.940</td>\n",
       "      <td>0.940</td>\n",
       "      <td>0.056</td>\n",
       "      <td>14</td>\n",
       "      <td>NaN</td>\n",
       "    </tr>\n",
       "    <tr>\n",
       "      <th>0</th>\n",
       "      <td>3</td>\n",
       "      <td>CountVectorizer()</td>\n",
       "      <td>MultinomialNB()</td>\n",
       "      <td>0.888</td>\n",
       "      <td>0.911</td>\n",
       "      <td>0.898</td>\n",
       "      <td>0.844</td>\n",
       "      <td>0.952</td>\n",
       "      <td>0.947</td>\n",
       "      <td>0.102</td>\n",
       "      <td>27</td>\n",
       "      <td>NaN</td>\n",
       "    </tr>\n",
       "  </tbody>\n",
       "</table>\n",
       "</div>"
      ],
      "text/plain": [
       "  Model No.    Word Vectorizer            Classifier  CV Score (train)  \\\n",
       "0         1  CountVectorizer()  LogisticRegression()             0.902   \n",
       "0         2  TfidfVectorizer()  LogisticRegression()             0.917   \n",
       "0         3  CountVectorizer()       MultinomialNB()             0.888   \n",
       "\n",
       "   Accuracy (train)  Accuracy (test)  Sensitivity (test)  Specificity (test)  \\\n",
       "0             0.993            0.916               0.933               0.898   \n",
       "0             0.997            0.944               0.949               0.940   \n",
       "0             0.911            0.898               0.844               0.952   \n",
       "\n",
       "   Precision (test)  Misclassification (test) Runtime (sec) Remarks  \n",
       "0             0.902                     0.084            16     NaN  \n",
       "0             0.940                     0.056            14     NaN  \n",
       "0             0.947                     0.102            27     NaN  "
      ]
     },
     "execution_count": 27,
     "metadata": {},
     "output_type": "execute_result"
    }
   ],
   "source": [
    "# Make pipe\n",
    "pipe = Pipeline([\n",
    "    ('cvec', CountVectorizer()),\n",
    "    ('nb', MultinomialNB())\n",
    "])\n",
    "\n",
    "# Set parameters\n",
    "params = {\n",
    "    'cvec__max_features' : [1000, 2000],\n",
    "    'cvec__ngram_range': [(1,1), (1,2), (1,3)],\n",
    "    'nb__alpha': [.25, .5, 1],\n",
    "    'nb__fit_prior': [True, False]\n",
    "}\n",
    "\n",
    "# Run pipe in GridSearchCV and print results\n",
    "new_results = run_grid(X_train, X_test, y_train, y_test)\n",
    "df_results = pd.concat([df_results, pd.DataFrame(new_results)], axis = 0)\n",
    "df_results"
   ]
  },
  {
   "cell_type": "markdown",
   "id": "877ede5a",
   "metadata": {},
   "source": [
    "The accuracy train score (0.911) is not too much higher than test score (0.898), so this model is not too overfitted. The average 5-fold cross-validation score on the train set is slightly lower at 0.888, which is to be expected as there are overlapping common words between the 2 subreddits. "
   ]
  },
  {
   "cell_type": "markdown",
   "id": "f47c7196",
   "metadata": {},
   "source": [
    "**TfidfVectorizer / Multinomial**"
   ]
  },
  {
   "cell_type": "code",
   "execution_count": 28,
   "id": "cdcbac32",
   "metadata": {},
   "outputs": [
    {
     "name": "stdout",
     "output_type": "stream",
     "text": [
      "Fitting 5 folds for each of 36 candidates, totalling 180 fits\n",
      "Best Parameters: {'nb__alpha': 0.25, 'nb__fit_prior': True, 'tvec__max_features': 2000, 'tvec__ngram_range': (1, 2)}\n"
     ]
    },
    {
     "data": {
      "text/html": [
       "<div>\n",
       "<style scoped>\n",
       "    .dataframe tbody tr th:only-of-type {\n",
       "        vertical-align: middle;\n",
       "    }\n",
       "\n",
       "    .dataframe tbody tr th {\n",
       "        vertical-align: top;\n",
       "    }\n",
       "\n",
       "    .dataframe thead th {\n",
       "        text-align: right;\n",
       "    }\n",
       "</style>\n",
       "<table border=\"1\" class=\"dataframe\">\n",
       "  <thead>\n",
       "    <tr style=\"text-align: right;\">\n",
       "      <th></th>\n",
       "      <th>Model No.</th>\n",
       "      <th>Word Vectorizer</th>\n",
       "      <th>Classifier</th>\n",
       "      <th>CV Score (train)</th>\n",
       "      <th>Accuracy (train)</th>\n",
       "      <th>Accuracy (test)</th>\n",
       "      <th>Sensitivity (test)</th>\n",
       "      <th>Specificity (test)</th>\n",
       "      <th>Precision (test)</th>\n",
       "      <th>Misclassification (test)</th>\n",
       "      <th>Runtime (sec)</th>\n",
       "      <th>Remarks</th>\n",
       "    </tr>\n",
       "  </thead>\n",
       "  <tbody>\n",
       "    <tr>\n",
       "      <th>0</th>\n",
       "      <td>1</td>\n",
       "      <td>CountVectorizer()</td>\n",
       "      <td>LogisticRegression()</td>\n",
       "      <td>0.902</td>\n",
       "      <td>0.993</td>\n",
       "      <td>0.916</td>\n",
       "      <td>0.933</td>\n",
       "      <td>0.898</td>\n",
       "      <td>0.902</td>\n",
       "      <td>0.084</td>\n",
       "      <td>16</td>\n",
       "      <td>NaN</td>\n",
       "    </tr>\n",
       "    <tr>\n",
       "      <th>0</th>\n",
       "      <td>2</td>\n",
       "      <td>TfidfVectorizer()</td>\n",
       "      <td>LogisticRegression()</td>\n",
       "      <td>0.917</td>\n",
       "      <td>0.997</td>\n",
       "      <td>0.944</td>\n",
       "      <td>0.949</td>\n",
       "      <td>0.940</td>\n",
       "      <td>0.940</td>\n",
       "      <td>0.056</td>\n",
       "      <td>14</td>\n",
       "      <td>NaN</td>\n",
       "    </tr>\n",
       "    <tr>\n",
       "      <th>0</th>\n",
       "      <td>3</td>\n",
       "      <td>CountVectorizer()</td>\n",
       "      <td>MultinomialNB()</td>\n",
       "      <td>0.888</td>\n",
       "      <td>0.911</td>\n",
       "      <td>0.898</td>\n",
       "      <td>0.844</td>\n",
       "      <td>0.952</td>\n",
       "      <td>0.947</td>\n",
       "      <td>0.102</td>\n",
       "      <td>27</td>\n",
       "      <td>NaN</td>\n",
       "    </tr>\n",
       "    <tr>\n",
       "      <th>0</th>\n",
       "      <td>4</td>\n",
       "      <td>CountVectorizer()</td>\n",
       "      <td>MultinomialNB()</td>\n",
       "      <td>0.888</td>\n",
       "      <td>0.911</td>\n",
       "      <td>0.898</td>\n",
       "      <td>0.844</td>\n",
       "      <td>0.952</td>\n",
       "      <td>0.947</td>\n",
       "      <td>0.102</td>\n",
       "      <td>30</td>\n",
       "      <td>NaN</td>\n",
       "    </tr>\n",
       "  </tbody>\n",
       "</table>\n",
       "</div>"
      ],
      "text/plain": [
       "  Model No.    Word Vectorizer            Classifier  CV Score (train)  \\\n",
       "0         1  CountVectorizer()  LogisticRegression()             0.902   \n",
       "0         2  TfidfVectorizer()  LogisticRegression()             0.917   \n",
       "0         3  CountVectorizer()       MultinomialNB()             0.888   \n",
       "0         4  CountVectorizer()       MultinomialNB()             0.888   \n",
       "\n",
       "   Accuracy (train)  Accuracy (test)  Sensitivity (test)  Specificity (test)  \\\n",
       "0             0.993            0.916               0.933               0.898   \n",
       "0             0.997            0.944               0.949               0.940   \n",
       "0             0.911            0.898               0.844               0.952   \n",
       "0             0.911            0.898               0.844               0.952   \n",
       "\n",
       "   Precision (test)  Misclassification (test) Runtime (sec) Remarks  \n",
       "0             0.902                     0.084            16     NaN  \n",
       "0             0.940                     0.056            14     NaN  \n",
       "0             0.947                     0.102            27     NaN  \n",
       "0             0.947                     0.102            30     NaN  "
      ]
     },
     "execution_count": 28,
     "metadata": {},
     "output_type": "execute_result"
    }
   ],
   "source": [
    "# Make pipe\n",
    "pipe = Pipeline([\n",
    "    ('tvec', CountVectorizer()),\n",
    "    ('nb', MultinomialNB())\n",
    "])\n",
    "\n",
    "# Set parameters\n",
    "params = {\n",
    "    'tvec__max_features' : [1000, 2000],\n",
    "    'tvec__ngram_range': [(1,1), (1,2), (1,3)],\n",
    "    'nb__alpha': [.25, .5, 1],\n",
    "    'nb__fit_prior': [True, False]\n",
    "}\n",
    "\n",
    "# Run pipe in GridSearchCV and print results\n",
    "new_results = run_grid(X_train, X_test, y_train, y_test)\n",
    "df_results = pd.concat([df_results, pd.DataFrame(new_results)], axis = 0)\n",
    "df_results"
   ]
  },
  {
   "cell_type": "markdown",
   "id": "f9ff3065",
   "metadata": {},
   "source": [
    "Surprisingly, the TF-IDF vectorizer works equally as well. The mean cross-validated score, train score and test score are exactly the same as the Count vectorizer's. "
   ]
  },
  {
   "cell_type": "markdown",
   "id": "5d5c8652",
   "metadata": {},
   "source": [
    "**Comparing MultiNomial Naive Bayes Results**\n",
    "\n",
    "1. Overall, we find that a MultiNomial Naive Bayes model gives us good results on the following metrics: Accuracy, Sensitivity, Specificity, Precision and Misclassification.\n",
    "2. Based on our results, both vectorizers perfrom equally as well.\n",
    "\n",
    "Conclusion: Better Vectorizer: Both are equally as good, however, still performs poorer as compared to Logistic Regression."
   ]
  },
  {
   "cell_type": "markdown",
   "id": "4a74c418",
   "metadata": {},
   "source": [
    "### Without 1-gram\n",
    "\n",
    "As shown in the Count Vectorizer & TFIDF Vectorizer analysis, 1-grams have a lot of intersection of words compared to bi-grams and tri-grams. We will observe if the model performance can be improved by setting ngram-range to avoid 1-grams, i.e. set range of [(2,2), (2,3)]."
   ]
  },
  {
   "cell_type": "code",
   "execution_count": 29,
   "id": "0d6078ff",
   "metadata": {},
   "outputs": [
    {
     "name": "stdout",
     "output_type": "stream",
     "text": [
      "Fitting 5 folds for each of 12 candidates, totalling 60 fits\n",
      "Best Parameters: {'logit__C': 1, 'logit__penalty': 'l2', 'tvec__max_features': 2000, 'tvec__ngram_range': (2, 2)}\n"
     ]
    }
   ],
   "source": [
    "# Make pipe\n",
    "pipe = Pipeline([\n",
    "    ('tvec', TfidfVectorizer()),\n",
    "    ('logit', LogisticRegression())\n",
    "])\n",
    "\n",
    "# Set parameters\n",
    "params = {\n",
    "    'tvec__max_features' : [1000, 2000],\n",
    "    'tvec__ngram_range': [(2,2), (2,3)],\n",
    "    'logit__C': [0.1, 1, 10],\n",
    "    'logit__penalty': ['l2'],\n",
    "}\n",
    "\n",
    "# Run pipe in GridSearchCV and print results\n",
    "new_results = run_grid(X_train, X_test, y_train, y_test)\n",
    "df_results = pd.concat([df_results, pd.DataFrame(new_results)], axis = 0)"
   ]
  },
  {
   "cell_type": "code",
   "execution_count": 30,
   "id": "a51e77aa",
   "metadata": {},
   "outputs": [
    {
     "data": {
      "text/html": [
       "<div>\n",
       "<style scoped>\n",
       "    .dataframe tbody tr th:only-of-type {\n",
       "        vertical-align: middle;\n",
       "    }\n",
       "\n",
       "    .dataframe tbody tr th {\n",
       "        vertical-align: top;\n",
       "    }\n",
       "\n",
       "    .dataframe thead th {\n",
       "        text-align: right;\n",
       "    }\n",
       "</style>\n",
       "<table border=\"1\" class=\"dataframe\">\n",
       "  <thead>\n",
       "    <tr style=\"text-align: right;\">\n",
       "      <th></th>\n",
       "      <th>Model No.</th>\n",
       "      <th>Word Vectorizer</th>\n",
       "      <th>Classifier</th>\n",
       "      <th>CV Score (train)</th>\n",
       "      <th>Accuracy (train)</th>\n",
       "      <th>Accuracy (test)</th>\n",
       "      <th>Sensitivity (test)</th>\n",
       "      <th>Specificity (test)</th>\n",
       "      <th>Precision (test)</th>\n",
       "      <th>Misclassification (test)</th>\n",
       "      <th>Runtime (sec)</th>\n",
       "      <th>Remarks</th>\n",
       "    </tr>\n",
       "  </thead>\n",
       "  <tbody>\n",
       "    <tr>\n",
       "      <th>0</th>\n",
       "      <td>1</td>\n",
       "      <td>CountVectorizer()</td>\n",
       "      <td>LogisticRegression()</td>\n",
       "      <td>0.902</td>\n",
       "      <td>0.993</td>\n",
       "      <td>0.916</td>\n",
       "      <td>0.933</td>\n",
       "      <td>0.898</td>\n",
       "      <td>0.902</td>\n",
       "      <td>0.084</td>\n",
       "      <td>16</td>\n",
       "      <td>NaN</td>\n",
       "    </tr>\n",
       "    <tr>\n",
       "      <th>0</th>\n",
       "      <td>2</td>\n",
       "      <td>TfidfVectorizer()</td>\n",
       "      <td>LogisticRegression()</td>\n",
       "      <td>0.917</td>\n",
       "      <td>0.997</td>\n",
       "      <td>0.944</td>\n",
       "      <td>0.949</td>\n",
       "      <td>0.940</td>\n",
       "      <td>0.940</td>\n",
       "      <td>0.056</td>\n",
       "      <td>14</td>\n",
       "      <td>NaN</td>\n",
       "    </tr>\n",
       "    <tr>\n",
       "      <th>0</th>\n",
       "      <td>3</td>\n",
       "      <td>CountVectorizer()</td>\n",
       "      <td>MultinomialNB()</td>\n",
       "      <td>0.888</td>\n",
       "      <td>0.911</td>\n",
       "      <td>0.898</td>\n",
       "      <td>0.844</td>\n",
       "      <td>0.952</td>\n",
       "      <td>0.947</td>\n",
       "      <td>0.102</td>\n",
       "      <td>27</td>\n",
       "      <td>NaN</td>\n",
       "    </tr>\n",
       "    <tr>\n",
       "      <th>0</th>\n",
       "      <td>4</td>\n",
       "      <td>CountVectorizer()</td>\n",
       "      <td>MultinomialNB()</td>\n",
       "      <td>0.888</td>\n",
       "      <td>0.911</td>\n",
       "      <td>0.898</td>\n",
       "      <td>0.844</td>\n",
       "      <td>0.952</td>\n",
       "      <td>0.947</td>\n",
       "      <td>0.102</td>\n",
       "      <td>30</td>\n",
       "      <td>NaN</td>\n",
       "    </tr>\n",
       "    <tr>\n",
       "      <th>0</th>\n",
       "      <td>5</td>\n",
       "      <td>TfidfVectorizer()</td>\n",
       "      <td>LogisticRegression()</td>\n",
       "      <td>0.805</td>\n",
       "      <td>0.948</td>\n",
       "      <td>0.852</td>\n",
       "      <td>0.829</td>\n",
       "      <td>0.876</td>\n",
       "      <td>0.870</td>\n",
       "      <td>0.148</td>\n",
       "      <td>13</td>\n",
       "      <td>only bi-grams and tri-grams</td>\n",
       "    </tr>\n",
       "  </tbody>\n",
       "</table>\n",
       "</div>"
      ],
      "text/plain": [
       "  Model No.    Word Vectorizer            Classifier  CV Score (train)  \\\n",
       "0         1  CountVectorizer()  LogisticRegression()             0.902   \n",
       "0         2  TfidfVectorizer()  LogisticRegression()             0.917   \n",
       "0         3  CountVectorizer()       MultinomialNB()             0.888   \n",
       "0         4  CountVectorizer()       MultinomialNB()             0.888   \n",
       "0         5  TfidfVectorizer()  LogisticRegression()             0.805   \n",
       "\n",
       "   Accuracy (train)  Accuracy (test)  Sensitivity (test)  Specificity (test)  \\\n",
       "0             0.993            0.916               0.933               0.898   \n",
       "0             0.997            0.944               0.949               0.940   \n",
       "0             0.911            0.898               0.844               0.952   \n",
       "0             0.911            0.898               0.844               0.952   \n",
       "0             0.948            0.852               0.829               0.876   \n",
       "\n",
       "   Precision (test)  Misclassification (test) Runtime (sec)  \\\n",
       "0             0.902                     0.084            16   \n",
       "0             0.940                     0.056            14   \n",
       "0             0.947                     0.102            27   \n",
       "0             0.947                     0.102            30   \n",
       "0             0.870                     0.148            13   \n",
       "\n",
       "                       Remarks  \n",
       "0                          NaN  \n",
       "0                          NaN  \n",
       "0                          NaN  \n",
       "0                          NaN  \n",
       "0  only bi-grams and tri-grams  "
      ]
     },
     "execution_count": 30,
     "metadata": {},
     "output_type": "execute_result"
    }
   ],
   "source": [
    "# Populate 'Remarks' column\n",
    "df_results.loc[df_results['Model No.'] == 5, 'Remarks'] = 'only bi-grams and tri-grams'\n",
    "df_results"
   ]
  },
  {
   "cell_type": "markdown",
   "id": "dd953e12",
   "metadata": {},
   "source": [
    "Performance degradation is significant, so it looks like it is better to keep 1-grams even though there are many overlapping common words between both subreddits."
   ]
  },
  {
   "cell_type": "markdown",
   "id": "5416de90",
   "metadata": {},
   "source": [
    "### Final Model Selection"
   ]
  },
  {
   "cell_type": "code",
   "execution_count": 31,
   "id": "ed38b97f",
   "metadata": {},
   "outputs": [
    {
     "data": {
      "text/html": [
       "<div>\n",
       "<style scoped>\n",
       "    .dataframe tbody tr th:only-of-type {\n",
       "        vertical-align: middle;\n",
       "    }\n",
       "\n",
       "    .dataframe tbody tr th {\n",
       "        vertical-align: top;\n",
       "    }\n",
       "\n",
       "    .dataframe thead th {\n",
       "        text-align: right;\n",
       "    }\n",
       "</style>\n",
       "<table border=\"1\" class=\"dataframe\">\n",
       "  <thead>\n",
       "    <tr style=\"text-align: right;\">\n",
       "      <th></th>\n",
       "      <th>Model No.</th>\n",
       "      <th>Word Vectorizer</th>\n",
       "      <th>Classifier</th>\n",
       "      <th>CV Score (train)</th>\n",
       "      <th>Accuracy (train)</th>\n",
       "      <th>Accuracy (test)</th>\n",
       "      <th>Sensitivity (test)</th>\n",
       "      <th>Specificity (test)</th>\n",
       "      <th>Precision (test)</th>\n",
       "      <th>Misclassification (test)</th>\n",
       "      <th>Runtime (sec)</th>\n",
       "      <th>Remarks</th>\n",
       "    </tr>\n",
       "  </thead>\n",
       "  <tbody>\n",
       "    <tr>\n",
       "      <th>0</th>\n",
       "      <td>1</td>\n",
       "      <td>CountVectorizer()</td>\n",
       "      <td>LogisticRegression()</td>\n",
       "      <td>0.902</td>\n",
       "      <td>0.993</td>\n",
       "      <td>0.916</td>\n",
       "      <td>0.933</td>\n",
       "      <td>0.898</td>\n",
       "      <td>0.902</td>\n",
       "      <td>0.084</td>\n",
       "      <td>16</td>\n",
       "      <td>NaN</td>\n",
       "    </tr>\n",
       "    <tr>\n",
       "      <th>0</th>\n",
       "      <td>2</td>\n",
       "      <td>TfidfVectorizer()</td>\n",
       "      <td>LogisticRegression()</td>\n",
       "      <td>0.917</td>\n",
       "      <td>0.997</td>\n",
       "      <td>0.944</td>\n",
       "      <td>0.949</td>\n",
       "      <td>0.940</td>\n",
       "      <td>0.940</td>\n",
       "      <td>0.056</td>\n",
       "      <td>14</td>\n",
       "      <td>NaN</td>\n",
       "    </tr>\n",
       "    <tr>\n",
       "      <th>0</th>\n",
       "      <td>3</td>\n",
       "      <td>CountVectorizer()</td>\n",
       "      <td>MultinomialNB()</td>\n",
       "      <td>0.888</td>\n",
       "      <td>0.911</td>\n",
       "      <td>0.898</td>\n",
       "      <td>0.844</td>\n",
       "      <td>0.952</td>\n",
       "      <td>0.947</td>\n",
       "      <td>0.102</td>\n",
       "      <td>27</td>\n",
       "      <td>NaN</td>\n",
       "    </tr>\n",
       "    <tr>\n",
       "      <th>0</th>\n",
       "      <td>4</td>\n",
       "      <td>CountVectorizer()</td>\n",
       "      <td>MultinomialNB()</td>\n",
       "      <td>0.888</td>\n",
       "      <td>0.911</td>\n",
       "      <td>0.898</td>\n",
       "      <td>0.844</td>\n",
       "      <td>0.952</td>\n",
       "      <td>0.947</td>\n",
       "      <td>0.102</td>\n",
       "      <td>30</td>\n",
       "      <td>NaN</td>\n",
       "    </tr>\n",
       "    <tr>\n",
       "      <th>0</th>\n",
       "      <td>5</td>\n",
       "      <td>TfidfVectorizer()</td>\n",
       "      <td>LogisticRegression()</td>\n",
       "      <td>0.805</td>\n",
       "      <td>0.948</td>\n",
       "      <td>0.852</td>\n",
       "      <td>0.829</td>\n",
       "      <td>0.876</td>\n",
       "      <td>0.870</td>\n",
       "      <td>0.148</td>\n",
       "      <td>13</td>\n",
       "      <td>only bi-grams and tri-grams</td>\n",
       "    </tr>\n",
       "  </tbody>\n",
       "</table>\n",
       "</div>"
      ],
      "text/plain": [
       "  Model No.    Word Vectorizer            Classifier  CV Score (train)  \\\n",
       "0         1  CountVectorizer()  LogisticRegression()             0.902   \n",
       "0         2  TfidfVectorizer()  LogisticRegression()             0.917   \n",
       "0         3  CountVectorizer()       MultinomialNB()             0.888   \n",
       "0         4  CountVectorizer()       MultinomialNB()             0.888   \n",
       "0         5  TfidfVectorizer()  LogisticRegression()             0.805   \n",
       "\n",
       "   Accuracy (train)  Accuracy (test)  Sensitivity (test)  Specificity (test)  \\\n",
       "0             0.993            0.916               0.933               0.898   \n",
       "0             0.997            0.944               0.949               0.940   \n",
       "0             0.911            0.898               0.844               0.952   \n",
       "0             0.911            0.898               0.844               0.952   \n",
       "0             0.948            0.852               0.829               0.876   \n",
       "\n",
       "   Precision (test)  Misclassification (test) Runtime (sec)  \\\n",
       "0             0.902                     0.084            16   \n",
       "0             0.940                     0.056            14   \n",
       "0             0.947                     0.102            27   \n",
       "0             0.947                     0.102            30   \n",
       "0             0.870                     0.148            13   \n",
       "\n",
       "                       Remarks  \n",
       "0                          NaN  \n",
       "0                          NaN  \n",
       "0                          NaN  \n",
       "0                          NaN  \n",
       "0  only bi-grams and tri-grams  "
      ]
     },
     "execution_count": 31,
     "metadata": {},
     "output_type": "execute_result"
    }
   ],
   "source": [
    "df_results"
   ]
  },
  {
   "cell_type": "markdown",
   "id": "4dbc97d6",
   "metadata": {},
   "source": [
    "1. Eliminate CVEC Models\n",
    "\n",
    "Based on our findings in the earlier comparisons between CVEC and TVEC models, it appears that a TVEC model is more appropriate to use because the penalization of common words in through TF-IDF provides a greater weight on the focus words within the dataset. The focus words in turn provide greater predictive power than compared to simply counting word frequency as per CVEC. This leaves us with TVEC models.\n",
    "\n",
    "2. Keep the 1-gram\n",
    "\n",
    "Even though there are many overlapping common words between both subreddits, the model performance appears to be much higher when the 1-gram is included.\n",
    "\n",
    "3. Eliminate MultiNomial Naive Bayes\n",
    "\n",
    "As compared to Logistic Regression appears to perform relatively better for all the metrics (except for Specificity). \n",
    "\n",
    "**Conclusion**\n",
    "\n",
    "We select the TVEC logistic regression as our predictive models due to the following factors:\n",
    "\n",
    "1. Lowest overfitting to training data. Even though the above results show that all the models were overfitted, the overfitting for TVEC logistic regressison is the least. Therefore, this models should perform better for blind data, such as when collecting new posts.\n",
    "2. Highest accuracy & lowest misclassification. Since our objective is to identify new leads & hot trends for each trading desk, it would be important that the correct information is collected. "
   ]
  },
  {
   "cell_type": "code",
   "execution_count": 62,
   "id": "f851a273",
   "metadata": {},
   "outputs": [
    {
     "name": "stdout",
     "output_type": "stream",
     "text": [
      "Test score (aka Accuracy): 0.944\n",
      "Sensitivity: 0.949, Specificity: 0.940, Precision: 0.940\n"
     ]
    },
    {
     "data": {
      "image/png": "[encoded data removed]",
      "text/plain": [
       "<Figure size 432x288 with 2 Axes>"
      ]
     },
     "metadata": {
      "needs_background": "light"
     },
     "output_type": "display_data"
    }
   ],
   "source": [
    "# Create and fit final selected model\n",
    "\n",
    "pipe = Pipeline([\n",
    "    ('tvec', TfidfVectorizer(\n",
    "        max_features = 2000,\n",
    "        ngram_range = (1, 1)\n",
    "        )\n",
    "    ),\n",
    "    ('logit', LogisticRegression(\n",
    "        C = 10,\n",
    "        penalty = 'l2'\n",
    "        )\n",
    "    )\n",
    "])\n",
    "\n",
    "pipe.fit(X_train, y_train)\n",
    "\n",
    "# Confusion matrix\n",
    "y_pred = pipe.predict(X_test)\n",
    "tn, fp, fn, tp = confusion_matrix(y_test, y_pred).ravel()\n",
    "\n",
    "plot_confusion_matrix(pipe, \n",
    "                      X_test, y_test, \n",
    "                      cmap='Blues', \n",
    "                      values_format='d', \n",
    "                      display_labels=['r/CryptoCurrency', 'r/investing']\n",
    "                     );\n",
    "# Print results\n",
    "print(f'Test score (aka Accuracy): {pipe.score(X_test, y_test):.3f}')\n",
    "print(f'Sensitivity: {tp/(tp+fn):.3f}, Specificity: {tn/(tn+fp):.3f}, Precision: {tp/(tp+fp):.3f}')"
   ]
  },
  {
   "cell_type": "markdown",
   "id": "9d884e4e",
   "metadata": {},
   "source": [
    "The model has an accuracy of 94%. Out of 630 posts in the test set, it got 595 correct, i.e. assigning reddit posts to r\\CryptoCurrency and r\\investing correctly. Only 5% of posts are misclassified.\n",
    "\n",
    "It also seems to be equally good in predicting r\\CryptoCurrency posts [296 / (296+19)] = 93.9% = specificity, as it is in predicting r\\investing posts [299/(299+16)] = 94.9% = sensitivity (I had arbitrarily set r\\investing as \"1\" and r\\CryptoCurrency as \"0\" earlier on)."
   ]
  },
  {
   "cell_type": "code",
   "execution_count": 37,
   "id": "afccb556",
   "metadata": {},
   "outputs": [
    {
     "data": {
      "image/png": "[encoded data removed]",
      "text/plain": [
       "<Figure size 432x288 with 1 Axes>"
      ]
     },
     "metadata": {
      "needs_background": "light"
     },
     "output_type": "display_data"
    }
   ],
   "source": [
    "# ROC curve\n",
    "plot_roc_curve(pipe, X_test, y_test)\n",
    "\n",
    "# add worst case scenario line\n",
    "plt.plot([0,1], [0,1], label = \"baseline\", linestyle = \"--\")\n",
    "\n",
    "# add title\n",
    "plt.title('Receiver Operating Characteristic (ROC) Curve');"
   ]
  },
  {
   "cell_type": "markdown",
   "id": "41c374aa",
   "metadata": {},
   "source": [
    "I have an ROC score of 0.98 which is a very respectable score (perfect score is 1.0, worst is 0.5). The ROC curve plots the highest true positive rate (r\\investing) together with the lowest false positive rate (predicting r\\investing when it actually belongs to r\\CryptoCurrency)."
   ]
  },
  {
   "cell_type": "markdown",
   "id": "0076af90",
   "metadata": {},
   "source": [
    "## Feature Importance\n",
    "\n",
    "Let's look at what are the word features that give us a decent prediction capability."
   ]
  },
  {
   "cell_type": "code",
   "execution_count": 38,
   "id": "4d53eda0",
   "metadata": {},
   "outputs": [],
   "source": [
    "# Obtain coefficients from logit model\n",
    "coef = pipe.named_steps['logit'].coef_.flatten()"
   ]
  },
  {
   "cell_type": "code",
   "execution_count": 39,
   "id": "a3da67d4",
   "metadata": {},
   "outputs": [],
   "source": [
    "# Obtain feature names from TF-IDF vectorizer\n",
    "features = pipe.named_steps['tvec'].get_feature_names()"
   ]
  },
  {
   "cell_type": "code",
   "execution_count": 40,
   "id": "6cdfa1a2",
   "metadata": {},
   "outputs": [
    {
     "data": {
      "text/plain": [
       "(2000, 2000)"
      ]
     },
     "execution_count": 40,
     "metadata": {},
     "output_type": "execute_result"
    }
   ],
   "source": [
    "# Check length as defined during model fitting\n",
    "len(coef), len(features)"
   ]
  },
  {
   "cell_type": "code",
   "execution_count": 41,
   "id": "1cf7cf35",
   "metadata": {},
   "outputs": [],
   "source": [
    "# Create dataframe of features and their coefficients\n",
    "df_coef = pd.DataFrame(zip(features, coef), \n",
    "                       columns = [\"Features\", \"Coefficient\"]\n",
    "                      ).sort_values('Coefficient', \n",
    "                                    ascending = False)"
   ]
  },
  {
   "cell_type": "code",
   "execution_count": 42,
   "id": "78088018",
   "metadata": {},
   "outputs": [
    {
     "data": {
      "image/png": "[encoded data removed]",
      "text/plain": [
       "<Figure size 720x360 with 1 Axes>"
      ]
     },
     "metadata": {
      "needs_background": "light"
     },
     "output_type": "display_data"
    }
   ],
   "source": [
    "# Plot 20 highest coefficients\n",
    "plt.figure(figsize=(10,5))\n",
    "ax = sns.barplot(x = 'Coefficient', y = 'Features', data = df_coef.head(20))\n",
    "ax.set_title(f\"Twenty highest coefficients\")\n",
    "ax.set_xlabel(\"Coefficient\")\n",
    "ax.set_ylabel(\"Features\");"
   ]
  },
  {
   "cell_type": "markdown",
   "id": "6ebee501",
   "metadata": {},
   "source": [
    "**Observations**\n",
    "\n",
    "We interpret these coeffcients such that the odds of landing a \"1\" which is r/investing is higher for positive coefficients, and the odds of landing a \"0\" which is r/CryptoCurrency is higher for negative coefficients.\n",
    "\n",
    "From our results, there are relatively strong correlations around the terms 'stock', 'company', 'shares' and 'investing' for the r/investing subreddit. This is unsurprising as potential investers are often interested in knowing what are the best performing stocks, companies to look out for and any shares that are worth holding and/or buying.\n",
    "\n",
    "We also see a wide range of traditional investments being frequently discuessed in the r/investing. From the stock market index tracking the performance of 500 large companies listed on stock exchanges in the United States(i.e. the S&P 500, as seen by 'sp' in the graph above), to the volatile options trading, and even comparatively stable fixed income investment like bonds, this focus words clearly shows us the trend in the r/investing subreddit.\n",
    "\n",
    "Referenced URLs:\n",
    "- https://www.investopedia.com/terms/s/sp500.asp\n",
    "- https://www.investopedia.com/articles/active-trading/040915/guide-option-trading-strategies-beginners.asp\n",
    "- https://www.investopedia.com/terms/b/bond.asp"
   ]
  },
  {
   "cell_type": "code",
   "execution_count": 43,
   "id": "e8d2908d",
   "metadata": {},
   "outputs": [
    {
     "data": {
      "image/png": "[encoded data removed]",
      "text/plain": [
       "<Figure size 720x360 with 1 Axes>"
      ]
     },
     "metadata": {
      "needs_background": "light"
     },
     "output_type": "display_data"
    }
   ],
   "source": [
    "# Plot 20 lowest coefficients\n",
    "plt.figure(figsize=(10,5))\n",
    "ax = sns.barplot(x = 'Coefficient', y = 'Features', data = df_coef.tail(20))\n",
    "ax.set_title(f\"Twenty lowest coefficients\")\n",
    "ax.set_xlabel(\"Coefficient\")\n",
    "ax.set_ylabel(\"Features\");"
   ]
  },
  {
   "cell_type": "markdown",
   "id": "f262be9a",
   "metadata": {},
   "source": [
    "**Observations**\n",
    "\n",
    "From our results, there are relatively strong correlation around the terms 'coins', 'btc' and 'eth'. It is unsurprising that the people interested in CryptoCurrency would be interested in knowing more about popular blockchains like Ethereum (where Eth is the currency of it), digital currencies like bitcoins & Shiba Inu (as acronym as 'btc' & 'shib' respectively), to undertanding the different networks of blockchain technology. \n",
    "\n",
    "This shows us the hot trends in the r/CryptoCurrency subreddit.\n",
    "\n",
    "Referenced URLs:\n",
    "https://www.investopedia.com/terms/e/ethereum.asp\n",
    "https://www.coindesk.com/price/bitcoin/\n",
    "https://www.investopedia.com/shiba-inu-shib-5207903#what-is-shiba-inu\n",
    "https://searchcio.techtarget.com/feature/What-are-the-4-different-types-of-blockchain-technology"
   ]
  },
  {
   "cell_type": "markdown",
   "id": "3b70505b",
   "metadata": {},
   "source": [
    "### Interpreting Coefficients\n",
    "\n",
    "As the features are regressed on log(odds), the way to convert the coeffficients is to take its nature exponential, i.e. np.exp(). Meaning: For every one unit increase in a particular feature, we expect the odds of a post appearing un r\\investing to increase by a factor of np.exp(feature's coefficient value)."
   ]
  },
  {
   "cell_type": "code",
   "execution_count": 49,
   "id": "59386822",
   "metadata": {},
   "outputs": [
    {
     "data": {
      "text/html": [
       "<div>\n",
       "<style scoped>\n",
       "    .dataframe tbody tr th:only-of-type {\n",
       "        vertical-align: middle;\n",
       "    }\n",
       "\n",
       "    .dataframe tbody tr th {\n",
       "        vertical-align: top;\n",
       "    }\n",
       "\n",
       "    .dataframe thead th {\n",
       "        text-align: right;\n",
       "    }\n",
       "</style>\n",
       "<table border=\"1\" class=\"dataframe\">\n",
       "  <thead>\n",
       "    <tr style=\"text-align: right;\">\n",
       "      <th></th>\n",
       "      <th>Features</th>\n",
       "      <th>Coefficient</th>\n",
       "    </tr>\n",
       "  </thead>\n",
       "  <tbody>\n",
       "    <tr>\n",
       "      <th>1670</th>\n",
       "      <td>stock</td>\n",
       "      <td>7.378867</td>\n",
       "    </tr>\n",
       "    <tr>\n",
       "      <th>1671</th>\n",
       "      <td>stocks</td>\n",
       "      <td>6.037970</td>\n",
       "    </tr>\n",
       "    <tr>\n",
       "      <th>334</th>\n",
       "      <td>company</td>\n",
       "      <td>5.918159</td>\n",
       "    </tr>\n",
       "    <tr>\n",
       "      <th>1568</th>\n",
       "      <td>shares</td>\n",
       "      <td>5.138268</td>\n",
       "    </tr>\n",
       "    <tr>\n",
       "      <th>905</th>\n",
       "      <td>investing</td>\n",
       "      <td>4.931897</td>\n",
       "    </tr>\n",
       "    <tr>\n",
       "      <th>333</th>\n",
       "      <td>companies</td>\n",
       "      <td>4.165361</td>\n",
       "    </tr>\n",
       "    <tr>\n",
       "      <th>877</th>\n",
       "      <td>industry</td>\n",
       "      <td>3.914030</td>\n",
       "    </tr>\n",
       "    <tr>\n",
       "      <th>906</th>\n",
       "      <td>investment</td>\n",
       "      <td>3.391314</td>\n",
       "    </tr>\n",
       "    <tr>\n",
       "      <th>1633</th>\n",
       "      <td>sp</td>\n",
       "      <td>3.362562</td>\n",
       "    </tr>\n",
       "    <tr>\n",
       "      <th>1404</th>\n",
       "      <td>rates</td>\n",
       "      <td>3.141417</td>\n",
       "    </tr>\n",
       "  </tbody>\n",
       "</table>\n",
       "</div>"
      ],
      "text/plain": [
       "        Features  Coefficient\n",
       "1670       stock     7.378867\n",
       "1671      stocks     6.037970\n",
       "334      company     5.918159\n",
       "1568      shares     5.138268\n",
       "905    investing     4.931897\n",
       "333    companies     4.165361\n",
       "877     industry     3.914030\n",
       "906   investment     3.391314\n",
       "1633          sp     3.362562\n",
       "1404       rates     3.141417"
      ]
     },
     "execution_count": 49,
     "metadata": {},
     "output_type": "execute_result"
    }
   ],
   "source": [
    "df_coef.head(10)"
   ]
  },
  {
   "cell_type": "code",
   "execution_count": 51,
   "id": "9cff1af1",
   "metadata": {},
   "outputs": [
    {
     "data": {
      "text/plain": [
       "1601.773929492228"
      ]
     },
     "execution_count": 51,
     "metadata": {},
     "output_type": "execute_result"
    }
   ],
   "source": [
    "#interpret coefficient for stocks:\n",
    "np.exp(7.378867)"
   ]
  },
  {
   "cell_type": "markdown",
   "id": "ccc492e6",
   "metadata": {},
   "source": [
    "An increase in discussion of stocks suggest that it is 1601 times as likely to appear in the r/investing subbreddit, holding all else constant."
   ]
  },
  {
   "cell_type": "code",
   "execution_count": 50,
   "id": "87f394d1",
   "metadata": {},
   "outputs": [
    {
     "data": {
      "text/html": [
       "<div>\n",
       "<style scoped>\n",
       "    .dataframe tbody tr th:only-of-type {\n",
       "        vertical-align: middle;\n",
       "    }\n",
       "\n",
       "    .dataframe tbody tr th {\n",
       "        vertical-align: top;\n",
       "    }\n",
       "\n",
       "    .dataframe thead th {\n",
       "        text-align: right;\n",
       "    }\n",
       "</style>\n",
       "<table border=\"1\" class=\"dataframe\">\n",
       "  <thead>\n",
       "    <tr style=\"text-align: right;\">\n",
       "      <th></th>\n",
       "      <th>Features</th>\n",
       "      <th>Coefficient</th>\n",
       "    </tr>\n",
       "  </thead>\n",
       "  <tbody>\n",
       "    <tr>\n",
       "      <th>409</th>\n",
       "      <td>cryptocurrency</td>\n",
       "      <td>-3.628470</td>\n",
       "    </tr>\n",
       "    <tr>\n",
       "      <th>1149</th>\n",
       "      <td>network</td>\n",
       "      <td>-3.710573</td>\n",
       "    </tr>\n",
       "    <tr>\n",
       "      <th>1572</th>\n",
       "      <td>shib</td>\n",
       "      <td>-3.782672</td>\n",
       "    </tr>\n",
       "    <tr>\n",
       "      <th>1992</th>\n",
       "      <td>you</td>\n",
       "      <td>-3.974140</td>\n",
       "    </tr>\n",
       "    <tr>\n",
       "      <th>1903</th>\n",
       "      <td>wallet</td>\n",
       "      <td>-4.968490</td>\n",
       "    </tr>\n",
       "    <tr>\n",
       "      <th>315</th>\n",
       "      <td>coin</td>\n",
       "      <td>-5.293080</td>\n",
       "    </tr>\n",
       "    <tr>\n",
       "      <th>565</th>\n",
       "      <td>eth</td>\n",
       "      <td>-5.496339</td>\n",
       "    </tr>\n",
       "    <tr>\n",
       "      <th>223</th>\n",
       "      <td>btc</td>\n",
       "      <td>-6.384673</td>\n",
       "    </tr>\n",
       "    <tr>\n",
       "      <th>318</th>\n",
       "      <td>coins</td>\n",
       "      <td>-7.329514</td>\n",
       "    </tr>\n",
       "    <tr>\n",
       "      <th>407</th>\n",
       "      <td>crypto</td>\n",
       "      <td>-10.656360</td>\n",
       "    </tr>\n",
       "  </tbody>\n",
       "</table>\n",
       "</div>"
      ],
      "text/plain": [
       "            Features  Coefficient\n",
       "409   cryptocurrency    -3.628470\n",
       "1149         network    -3.710573\n",
       "1572            shib    -3.782672\n",
       "1992             you    -3.974140\n",
       "1903          wallet    -4.968490\n",
       "315             coin    -5.293080\n",
       "565              eth    -5.496339\n",
       "223              btc    -6.384673\n",
       "318            coins    -7.329514\n",
       "407           crypto   -10.656360"
      ]
     },
     "execution_count": 50,
     "metadata": {},
     "output_type": "execute_result"
    }
   ],
   "source": [
    "df_coef.tail(10)"
   ]
  },
  {
   "cell_type": "code",
   "execution_count": 52,
   "id": "b53cd2d5",
   "metadata": {},
   "outputs": [
    {
     "data": {
      "text/plain": [
       "0.0006558922733235126"
      ]
     },
     "execution_count": 52,
     "metadata": {},
     "output_type": "execute_result"
    }
   ],
   "source": [
    "#interpret coefficient for coins:\n",
    "np.exp(-7.329514)"
   ]
  },
  {
   "cell_type": "markdown",
   "id": "fa0e4ca5",
   "metadata": {},
   "source": [
    "An increase in discussion of coins suggest that it is seemingly impossible for it to appear in the r/investing subbreddit, holding all else constant."
   ]
  },
  {
   "cell_type": "markdown",
   "id": "9b4dc6a3",
   "metadata": {},
   "source": [
    "## Misclassification Analysis\n",
    "\n",
    "Misclassification is often produced due to the lack of contextual knowledge. Since the algorithms applied has no knowledge on natural human language patterns, it takes numerical weights of word distributions to predict the results instead. Such are the limitations of the modeling we have applied onto our datasets.\n",
    "\n",
    "We create a dataframe of the test set and its corresponding predicted values. The dataframe was made by merging 3 series/numpy arrays: X_test, y_test and predicted y (y_preds)."
   ]
  },
  {
   "cell_type": "code",
   "execution_count": 63,
   "id": "846aa595",
   "metadata": {},
   "outputs": [],
   "source": [
    "# Create DataFrame of predicated values and actual values\n",
    "results = pd.DataFrame(\n",
    "    zip(y_test, pipe.predict(X_test)),\n",
    "    columns = ['actual', 'predicted']\n",
    ")"
   ]
  },
  {
   "cell_type": "code",
   "execution_count": 64,
   "id": "247a38ef",
   "metadata": {},
   "outputs": [],
   "source": [
    "# Check\n",
    "results['title_n_text'] = X_test.reset_index(drop = True)"
   ]
  },
  {
   "cell_type": "code",
   "execution_count": 65,
   "id": "8327f646",
   "metadata": {},
   "outputs": [],
   "source": [
    "# Find all index values where predicted and true results \n",
    "# aren't the same, then save in an array.\n",
    "results = results[results.actual != results.predicted]"
   ]
  },
  {
   "cell_type": "code",
   "execution_count": 66,
   "id": "cb8f4a1d",
   "metadata": {},
   "outputs": [
    {
     "data": {
      "text/html": [
       "<div>\n",
       "<style scoped>\n",
       "    .dataframe tbody tr th:only-of-type {\n",
       "        vertical-align: middle;\n",
       "    }\n",
       "\n",
       "    .dataframe tbody tr th {\n",
       "        vertical-align: top;\n",
       "    }\n",
       "\n",
       "    .dataframe thead th {\n",
       "        text-align: right;\n",
       "    }\n",
       "</style>\n",
       "<table border=\"1\" class=\"dataframe\">\n",
       "  <thead>\n",
       "    <tr style=\"text-align: right;\">\n",
       "      <th></th>\n",
       "      <th>actual</th>\n",
       "      <th>predicted</th>\n",
       "      <th>title_n_text</th>\n",
       "    </tr>\n",
       "  </thead>\n",
       "  <tbody>\n",
       "    <tr>\n",
       "      <th>82</th>\n",
       "      <td>0</td>\n",
       "      <td>1</td>\n",
       "      <td>['Can Wall Street funds manipulate Bitcoin price for Bitcoin Futures ETF ', ' I am new to all these financial instruments so this question popped into my mind if Wall Street has enough wallets and bitcoins to create an artificial trade volume of one day s worth of trades on an exchange could they create a fake valuation for the Bitcoin that helps their future trades And if all bitcoin wallets are anonymous how can a user know if the trades are real or just market manipulation Are there any laws that hold these funds accountable if they engage in activities that prey on the retail investors ']</td>\n",
       "    </tr>\n",
       "  </tbody>\n",
       "</table>\n",
       "</div>"
      ],
      "text/plain": [
       "    actual  predicted  \\\n",
       "82       0          1   \n",
       "\n",
       "                                                                                                                                                                                                                                                                                                                                                                                                                                                                                                                                                                                                               title_n_text  \n",
       "82  ['Can Wall Street funds manipulate Bitcoin price for Bitcoin Futures ETF ', ' I am new to all these financial instruments so this question popped into my mind if Wall Street has enough wallets and bitcoins to create an artificial trade volume of one day s worth of trades on an exchange could they create a fake valuation for the Bitcoin that helps their future trades And if all bitcoin wallets are anonymous how can a user know if the trades are real or just market manipulation Are there any laws that hold these funds accountable if they engage in activities that prey on the retail investors ']  "
      ]
     },
     "execution_count": 66,
     "metadata": {},
     "output_type": "execute_result"
    }
   ],
   "source": [
    "results[:1]"
   ]
  },
  {
   "cell_type": "code",
   "execution_count": 58,
   "id": "49b4747a",
   "metadata": {},
   "outputs": [],
   "source": [
    "results['word_count'] = results['title_n_text'].map(lambda x: len(x.split()))"
   ]
  },
  {
   "cell_type": "markdown",
   "id": "be6c0b29",
   "metadata": {},
   "source": [
    "### False Positive Posts\n",
    "\n",
    "False positives are datapoints which we had predicted to originate from r/CryptoCurrency but is actually from r/investing. We quote some text below and explain why they may have been misclassified:"
   ]
  },
  {
   "cell_type": "code",
   "execution_count": 59,
   "id": "39a5332b",
   "metadata": {},
   "outputs": [
    {
     "data": {
      "text/html": [
       "<div>\n",
       "<style scoped>\n",
       "    .dataframe tbody tr th:only-of-type {\n",
       "        vertical-align: middle;\n",
       "    }\n",
       "\n",
       "    .dataframe tbody tr th {\n",
       "        vertical-align: top;\n",
       "    }\n",
       "\n",
       "    .dataframe thead th {\n",
       "        text-align: right;\n",
       "    }\n",
       "</style>\n",
       "<table border=\"1\" class=\"dataframe\">\n",
       "  <thead>\n",
       "    <tr style=\"text-align: right;\">\n",
       "      <th></th>\n",
       "      <th>actual</th>\n",
       "      <th>predicted</th>\n",
       "      <th>word_count</th>\n",
       "    </tr>\n",
       "  </thead>\n",
       "  <tbody>\n",
       "    <tr>\n",
       "      <th>count</th>\n",
       "      <td>19.0</td>\n",
       "      <td>19.0</td>\n",
       "      <td>19.000000</td>\n",
       "    </tr>\n",
       "    <tr>\n",
       "      <th>mean</th>\n",
       "      <td>0.0</td>\n",
       "      <td>1.0</td>\n",
       "      <td>145.789474</td>\n",
       "    </tr>\n",
       "    <tr>\n",
       "      <th>std</th>\n",
       "      <td>0.0</td>\n",
       "      <td>0.0</td>\n",
       "      <td>76.010656</td>\n",
       "    </tr>\n",
       "    <tr>\n",
       "      <th>min</th>\n",
       "      <td>0.0</td>\n",
       "      <td>1.0</td>\n",
       "      <td>34.000000</td>\n",
       "    </tr>\n",
       "    <tr>\n",
       "      <th>25%</th>\n",
       "      <td>0.0</td>\n",
       "      <td>1.0</td>\n",
       "      <td>97.500000</td>\n",
       "    </tr>\n",
       "    <tr>\n",
       "      <th>50%</th>\n",
       "      <td>0.0</td>\n",
       "      <td>1.0</td>\n",
       "      <td>128.000000</td>\n",
       "    </tr>\n",
       "    <tr>\n",
       "      <th>75%</th>\n",
       "      <td>0.0</td>\n",
       "      <td>1.0</td>\n",
       "      <td>204.000000</td>\n",
       "    </tr>\n",
       "    <tr>\n",
       "      <th>max</th>\n",
       "      <td>0.0</td>\n",
       "      <td>1.0</td>\n",
       "      <td>316.000000</td>\n",
       "    </tr>\n",
       "  </tbody>\n",
       "</table>\n",
       "</div>"
      ],
      "text/plain": [
       "       actual  predicted  word_count\n",
       "count    19.0       19.0   19.000000\n",
       "mean      0.0        1.0  145.789474\n",
       "std       0.0        0.0   76.010656\n",
       "min       0.0        1.0   34.000000\n",
       "25%       0.0        1.0   97.500000\n",
       "50%       0.0        1.0  128.000000\n",
       "75%       0.0        1.0  204.000000\n",
       "max       0.0        1.0  316.000000"
      ]
     },
     "metadata": {},
     "output_type": "display_data"
    },
    {
     "data": {
      "text/html": [
       "<div>\n",
       "<style scoped>\n",
       "    .dataframe tbody tr th:only-of-type {\n",
       "        vertical-align: middle;\n",
       "    }\n",
       "\n",
       "    .dataframe tbody tr th {\n",
       "        vertical-align: top;\n",
       "    }\n",
       "\n",
       "    .dataframe thead th {\n",
       "        text-align: right;\n",
       "    }\n",
       "</style>\n",
       "<table border=\"1\" class=\"dataframe\">\n",
       "  <thead>\n",
       "    <tr style=\"text-align: right;\">\n",
       "      <th></th>\n",
       "      <th>actual</th>\n",
       "      <th>predicted</th>\n",
       "      <th>title_n_text</th>\n",
       "      <th>word_count</th>\n",
       "    </tr>\n",
       "  </thead>\n",
       "  <tbody>\n",
       "    <tr>\n",
       "      <th>514</th>\n",
       "      <td>0</td>\n",
       "      <td>1</td>\n",
       "      <td>['Seems like great branding', 'Does anyone know where to buy FreedomCoin Seems like great meme potential yet as far as I can tell most of these aren t traded anywhere lol Any ideas ']</td>\n",
       "      <td>34</td>\n",
       "    </tr>\n",
       "    <tr>\n",
       "      <th>249</th>\n",
       "      <td>0</td>\n",
       "      <td>1</td>\n",
       "      <td>['Newbie where TF do I start ', 'Trying to get into crypto to secure the bag for my family but I have no idea where to start to get solid info Can someone point me in the right direction ']</td>\n",
       "      <td>40</td>\n",
       "    </tr>\n",
       "    <tr>\n",
       "      <th>336</th>\n",
       "      <td>0</td>\n",
       "      <td>1</td>\n",
       "      <td>['First investments for a Broke Ass Dad', 'Hi I recently was able to save up just over grand which I want to invest with I m a single dad so I don t have a lot of disposable income but my time into he public service has given me a pension for retirment and the health coverage I need so I am not totally risk adverse I want to invest in crypto well and utilize it for purchases somewhat Everything you read is great and a wonderful investment but I m looking for some solid advice for a beginner not sponsored content My intention is to build on this money slowly add more of my own and from buying and selling stuff I do not the side The goal is to turn this bucks into money to start a seperate consulting buisness In short this would be my main investment currently for the next few years likely with intention of pulling it out for other investments Likely at that point my crypto accounts would act as more of a supplementary invesment rather than the main one Locally real estate is on the verge of collapse and God knows what else so crypto seems to be the best bet currently b Any advice appriciated ']</td>\n",
       "      <td>214</td>\n",
       "    </tr>\n",
       "  </tbody>\n",
       "</table>\n",
       "</div>"
      ],
      "text/plain": [
       "     actual  predicted  \\\n",
       "514       0          1   \n",
       "249       0          1   \n",
       "336       0          1   \n",
       "\n",
       "                                                                                                                                                                                                                                                                                                                                                                                                                                                                                                                                                                                                                                                                                                                                                                                                                                                                                                                                                                                                                                                                                                                                               title_n_text  \\\n",
       "514                                                                                                                                                                                                                                                                                                                                                                                                                                                                                                                                                                                                                                                                                                                                                                                                                                                                                                                                                                 ['Seems like great branding', 'Does anyone know where to buy FreedomCoin Seems like great meme potential yet as far as I can tell most of these aren t traded anywhere lol Any ideas ']   \n",
       "249                                                                                                                                                                                                                                                                                                                                                                                                                                                                                                                                                                                                                                                                                                                                                                                                                                                                                                                                                           ['Newbie where TF do I start ', 'Trying to get into crypto to secure the bag for my family but I have no idea where to start to get solid info Can someone point me in the right direction ']   \n",
       "336  ['First investments for a Broke Ass Dad', 'Hi I recently was able to save up just over grand which I want to invest with I m a single dad so I don t have a lot of disposable income but my time into he public service has given me a pension for retirment and the health coverage I need so I am not totally risk adverse I want to invest in crypto well and utilize it for purchases somewhat Everything you read is great and a wonderful investment but I m looking for some solid advice for a beginner not sponsored content My intention is to build on this money slowly add more of my own and from buying and selling stuff I do not the side The goal is to turn this bucks into money to start a seperate consulting buisness In short this would be my main investment currently for the next few years likely with intention of pulling it out for other investments Likely at that point my crypto accounts would act as more of a supplementary invesment rather than the main one Locally real estate is on the verge of collapse and God knows what else so crypto seems to be the best bet currently b Any advice appriciated ']   \n",
       "\n",
       "     word_count  \n",
       "514          34  \n",
       "249          40  \n",
       "336         214  "
      ]
     },
     "metadata": {},
     "output_type": "display_data"
    }
   ],
   "source": [
    "# Describe and sample false positive posts \n",
    "pd.set_option('display.max_colwidth', None)\n",
    "display(results.loc[results['predicted'] == 1].describe())\n",
    "display(results.loc[results['predicted'] == 1].sample(3))"
   ]
  },
  {
   "cell_type": "markdown",
   "id": "4502e39b",
   "metadata": {},
   "source": [
    "**Text 1:**\n",
    "> 'Seems like great branding', 'Does anyone know where to buy FreedomCoin Seems like great meme potential yet as far as I can tell most of these aren t traded anywhere lol Any ideas' \n",
    "\n",
    "The above post used focus words like 'FreedomCoin' which is a blockchained based currency. The user might have posted a CryptoCurrency question in the r/investing subreddit instead to reach a wider audience.\n",
    "\n",
    "Referenced URL:\n",
    "https://currencyworks.io/project/freedomcoin/\n",
    "\n",
    "**Text 2:**\n",
    "> 'Newbie where TF do I start ', 'Trying to get into crypto to secure the bag for my family but I have no idea where to start to get solid info Can someone point me in the right direction'\n",
    "\n",
    "The above post used focus words like 'crypto'. However, we observe that the user is a newly interested person in CryptoCurrency and therefore, could be unaware that there is another separate subreddit which focuses solely on CrypoCurrency instead. Hence, the post is posted in the nonoptimal r/investing subreddit.\n",
    "\n",
    "**Text 3:**\n",
    "> 'First investments for a Broke Ass Dad', 'Hi I recently was able to save up just over grand which I want to invest with I m a single dad so I don t have a lot of disposable income but my time into he public service has given me a pension for retirment and the health coverage I need so I am not totally risk adverse I want to invest in crypto well and utilize it for purchases somewhat Everything you read is great and a wonderful investment but I m looking for some solid advice for a beginner not sponsored content My intention is to build on this money slowly add more of my own and from buying and selling stuff I do not the side The goal is to turn this bucks into money to start a seperate consulting buisness In short this would be my main investment currently for the next few years likely with intention of pulling it out for other investments Likely at that point my crypto accounts would act as more of a supplementary invesment rather than the main one Locally real estate is on the verge of collapse and God knows what else so crypto seems to be the best bet currently b Any advice appriciated '\n",
    "\n",
    "The above post used focus words like 'investments', and 'crypto'. Likewise, this user appears to be interested in CrypoCurrency. However, he too is new to investing and appears to be open for general investment advices. Hence, this post is correctly posted, since the user is open to accepting general investing advices as well. The lack of contextual understanding in NLP models cause misclassifications due to our model's sole reliance onto numerical analysis."
   ]
  },
  {
   "cell_type": "markdown",
   "id": "072d7c5d",
   "metadata": {},
   "source": [
    "### False Negative Posts"
   ]
  },
  {
   "cell_type": "code",
   "execution_count": 77,
   "id": "f88e70b4",
   "metadata": {},
   "outputs": [
    {
     "data": {
      "text/html": [
       "<div>\n",
       "<style scoped>\n",
       "    .dataframe tbody tr th:only-of-type {\n",
       "        vertical-align: middle;\n",
       "    }\n",
       "\n",
       "    .dataframe tbody tr th {\n",
       "        vertical-align: top;\n",
       "    }\n",
       "\n",
       "    .dataframe thead th {\n",
       "        text-align: right;\n",
       "    }\n",
       "</style>\n",
       "<table border=\"1\" class=\"dataframe\">\n",
       "  <thead>\n",
       "    <tr style=\"text-align: right;\">\n",
       "      <th></th>\n",
       "      <th>actual</th>\n",
       "      <th>predicted</th>\n",
       "    </tr>\n",
       "  </thead>\n",
       "  <tbody>\n",
       "    <tr>\n",
       "      <th>count</th>\n",
       "      <td>16.0</td>\n",
       "      <td>16.0</td>\n",
       "    </tr>\n",
       "    <tr>\n",
       "      <th>mean</th>\n",
       "      <td>1.0</td>\n",
       "      <td>0.0</td>\n",
       "    </tr>\n",
       "    <tr>\n",
       "      <th>std</th>\n",
       "      <td>0.0</td>\n",
       "      <td>0.0</td>\n",
       "    </tr>\n",
       "    <tr>\n",
       "      <th>min</th>\n",
       "      <td>1.0</td>\n",
       "      <td>0.0</td>\n",
       "    </tr>\n",
       "    <tr>\n",
       "      <th>25%</th>\n",
       "      <td>1.0</td>\n",
       "      <td>0.0</td>\n",
       "    </tr>\n",
       "    <tr>\n",
       "      <th>50%</th>\n",
       "      <td>1.0</td>\n",
       "      <td>0.0</td>\n",
       "    </tr>\n",
       "    <tr>\n",
       "      <th>75%</th>\n",
       "      <td>1.0</td>\n",
       "      <td>0.0</td>\n",
       "    </tr>\n",
       "    <tr>\n",
       "      <th>max</th>\n",
       "      <td>1.0</td>\n",
       "      <td>0.0</td>\n",
       "    </tr>\n",
       "  </tbody>\n",
       "</table>\n",
       "</div>"
      ],
      "text/plain": [
       "       actual  predicted\n",
       "count    16.0       16.0\n",
       "mean      1.0        0.0\n",
       "std       0.0        0.0\n",
       "min       1.0        0.0\n",
       "25%       1.0        0.0\n",
       "50%       1.0        0.0\n",
       "75%       1.0        0.0\n",
       "max       1.0        0.0"
      ]
     },
     "metadata": {},
     "output_type": "display_data"
    },
    {
     "data": {
      "text/html": [
       "<div>\n",
       "<style scoped>\n",
       "    .dataframe tbody tr th:only-of-type {\n",
       "        vertical-align: middle;\n",
       "    }\n",
       "\n",
       "    .dataframe tbody tr th {\n",
       "        vertical-align: top;\n",
       "    }\n",
       "\n",
       "    .dataframe thead th {\n",
       "        text-align: right;\n",
       "    }\n",
       "</style>\n",
       "<table border=\"1\" class=\"dataframe\">\n",
       "  <thead>\n",
       "    <tr style=\"text-align: right;\">\n",
       "      <th></th>\n",
       "      <th>actual</th>\n",
       "      <th>predicted</th>\n",
       "      <th>title_n_text</th>\n",
       "    </tr>\n",
       "  </thead>\n",
       "  <tbody>\n",
       "    <tr>\n",
       "      <th>142</th>\n",
       "      <td>1</td>\n",
       "      <td>0</td>\n",
       "      <td>['How are you preparing for ', 'What stocks or funds are you loading up on going into I m still heavy in tech but I m wondering how inflation will impact that sector We also have supply chain issues looming crypto regulation and an increasingly aggressive China I ve had some interesting winners so far in like GNRC ODFL and good old VOO Like many of you I was clobbered by my early losses in green energy and have finally clawed my way back into the green I made some changes around July to load up on AAPL MSFT and GOOG And TSLA is finally making me some money again Just curious to hear what you all are doing ']</td>\n",
       "    </tr>\n",
       "    <tr>\n",
       "      <th>112</th>\n",
       "      <td>1</td>\n",
       "      <td>0</td>\n",
       "      <td>['THE MOST FLEXSIBLE WAY TO EARN CRYPTO', 'THE MOST FLEXSIBLE WAY TO EARN CRYPTOThere is no minimum deposit You can start with as little as you want We ve created a feature that allows everyone to be a part of the network SETTING UP A VAULT IN DIVI WALLET Download Divi Wallet if you haven t already Back up your wallet Purchase Divi from an exchange or send some from another wallet Select the Earn tab and select staking vault From here you will be able to add funds to the vault HWO DOES THE PRICING WORK We have decided upon a pricing structure that we think will feel fair to our community whilst making it easy to begin staking We have decided upon subscription pricing at a flat rate per month so as the DIVI coin price increases you will benefit even more If you have between and DIVI in a vault the base cost will be USD per month From here k k every DIVI increases the cost by USD per month up to USD per month SO WHERE TO FROM HERE we re extending access to our community members with under DIVI Up until now those people have not had a dedicated easy to use way to put their Divi to work Now they can ']</td>\n",
       "    </tr>\n",
       "    <tr>\n",
       "      <th>510</th>\n",
       "      <td>1</td>\n",
       "      <td>0</td>\n",
       "      <td>['Investors or Reddit that become wealthy off the stock market what advice would you give someone that has just turned ', 'My goal is to become a millionaire by I can achieve any thing I want and no body is going to stop me I ve achieved so much in my life so far that many people have not I m motivated and ready to attack this for the next years I ll sacrifice my social life for this i want it The only things keeping me sane is being Christian and working out I m ready to be a workaholic and live life to the fullest I m even considering deleting my tiktok of k followers to dicots on this I plan stay in peak physical condition and achieve this goal by I m hungry for it man ']</td>\n",
       "    </tr>\n",
       "  </tbody>\n",
       "</table>\n",
       "</div>"
      ],
      "text/plain": [
       "     actual  predicted  \\\n",
       "142       1          0   \n",
       "112       1          0   \n",
       "510       1          0   \n",
       "\n",
       "                                                                                                                                                                                                                                                                                                                                                                                                                                                                                                                                                                                                                                                                                                                                                                                                                                                                                                                                                                                                                                                                                                                                                    title_n_text  \n",
       "142                                                                                                                                                                                                                                                                                                                                                                                                                                                                                                                      ['How are you preparing for ', 'What stocks or funds are you loading up on going into I m still heavy in tech but I m wondering how inflation will impact that sector We also have supply chain issues looming crypto regulation and an increasingly aggressive China I ve had some interesting winners so far in like GNRC ODFL and good old VOO Like many of you I was clobbered by my early losses in green energy and have finally clawed my way back into the green I made some changes around July to load up on AAPL MSFT and GOOG And TSLA is finally making me some money again Just curious to hear what you all are doing ']  \n",
       "112  ['THE MOST FLEXSIBLE WAY TO EARN CRYPTO', 'THE MOST FLEXSIBLE WAY TO EARN CRYPTOThere is no minimum deposit You can start with as little as you want We ve created a feature that allows everyone to be a part of the network SETTING UP A VAULT IN DIVI WALLET Download Divi Wallet if you haven t already Back up your wallet Purchase Divi from an exchange or send some from another wallet Select the Earn tab and select staking vault From here you will be able to add funds to the vault HWO DOES THE PRICING WORK We have decided upon a pricing structure that we think will feel fair to our community whilst making it easy to begin staking We have decided upon subscription pricing at a flat rate per month so as the DIVI coin price increases you will benefit even more If you have between and DIVI in a vault the base cost will be USD per month From here k k every DIVI increases the cost by USD per month up to USD per month SO WHERE TO FROM HERE we re extending access to our community members with under DIVI Up until now those people have not had a dedicated easy to use way to put their Divi to work Now they can ']  \n",
       "510                                                                                                                                                                                                                                                                                                                                                                                                                                                  ['Investors or Reddit that become wealthy off the stock market what advice would you give someone that has just turned ', 'My goal is to become a millionaire by I can achieve any thing I want and no body is going to stop me I ve achieved so much in my life so far that many people have not I m motivated and ready to attack this for the next years I ll sacrifice my social life for this i want it The only things keeping me sane is being Christian and working out I m ready to be a workaholic and live life to the fullest I m even considering deleting my tiktok of k followers to dicots on this I plan stay in peak physical condition and achieve this goal by I m hungry for it man ']  "
      ]
     },
     "metadata": {},
     "output_type": "display_data"
    }
   ],
   "source": [
    "# Describe and sample false negative posts \n",
    "display(results.loc[results['predicted'] == 0].describe())\n",
    "display(results.loc[results['predicted'] == 0].sample(3))"
   ]
  },
  {
   "cell_type": "markdown",
   "id": "b1621e5c",
   "metadata": {},
   "source": [
    "**Text 1:**\n",
    "> 'How are you preparing for ', 'What stocks or funds are you loading up on going into I m still heavy in tech but I m wondering how inflation will impact that sector We also have supply chain issues looming crypto regulation and an increasingly aggressive China I ve had some interesting winners so far in like GNRC ODFL and good old VOO Like many of you I was clobbered by my early losses in green energy and have finally clawed my way back into the green I made some changes around July to load up on AAPL MSFT and GOOG And TSLA is finally making me some money again Just curious to hear what you all are doing '\n",
    "\n",
    "The above post used focus words like 'stocks', 'funds', and 'crypto'. The user has correctly post a dicussion in the r/investing subreddit. However, he makes an additional statement regarding crypto regulation which sounds like an for-your-information kind of statement. \n",
    "\n",
    "**Text 2:**\n",
    "> 'THE MOST FLEXSIBLE WAY TO EARN CRYPTO', 'THE MOST FLEXSIBLE WAY TO EARN CRYPTOThere is no minimum deposit You can start with as little as you want We ve created a feature that allows everyone to be a part of the network SETTING UP A VAULT IN DIVI WALLET Download Divi Wallet if you haven t already Back up your wallet Purchase Divi from an exchange or send some from another wallet Select the Earn tab and select staking vault From here you will be able to add funds to the vault HWO DOES THE PRICING WORK We have decided upon a pricing structure that we think will feel fair to our community whilst making it easy to begin staking We have decided upon subscription pricing at a flat rate per month so as the DIVI coin price increases you will benefit even more If you have between and DIVI in a vault the base cost will be USD per month From here k k every DIVI increases the cost by USD per month up to USD per month SO WHERE TO FROM HERE we re extending access to our community members with under DIVI Up until now those people have not had a dedicated easy to use way to put their Divi to work Now they can '\n",
    "\n",
    "The above post used focus word like 'crypto'. This post appears to be wrongly classified.\n",
    "\n",
    "**Text 3:**:\n",
    "> 'Investors or Reddit that become wealthy off the stock market what advice would you give someone that has just turned ', 'My goal is to become a millionaire by I can achieve any thing I want and no body is going to stop me I ve achieved so much in my life so far that many people have not I m motivated and ready to attack this for the next years I ll sacrifice my social life for this i want it The only things keeping me sane is being Christian and working out I m ready to be a workaholic and live life to the fullest I m even considering deleting my tiktok of k followers to dicots on this I plan stay in peak physical condition and achieve this goal by I m hungry for it man '\n",
    "\n",
    "The above post used focus word like 'stock'. It is correctly posted in the r/investing subreddit."
   ]
  },
  {
   "cell_type": "markdown",
   "id": "36706f6b",
   "metadata": {},
   "source": [
    "**Observations**\n",
    "\n",
    "It appears that the focus word 'crypto' is a call for concern. Newly interested users of CryptoCurrency may find themselves inclined to discuss about CryptoCurrency in the r/investing subreddit, due to the lack of knowledge and/or awareness of the r/CryptoCurrency subreddit."
   ]
  },
  {
   "cell_type": "markdown",
   "id": "b8de24a9",
   "metadata": {},
   "source": [
    "# Conclusions & Recommendations "
   ]
  },
  {
   "cell_type": "markdown",
   "id": "4d6351f7",
   "metadata": {},
   "source": [
    "### Conclusion\n",
    "Our chosen model of the Logistic Regression on the TF-IDF Vectoriser appears to perform very well at 94% accuracy. \n",
    "\n",
    "Even though there may be some overlapping words (for example, 'buy', 'money' and 'market) in the unigram, the model performs better with the inclusion of unigram. \n",
    "\n",
    "The subreddits r/investing and r/CryptoCurrency may seem similar, but the results from the model and the top feature words show us that the discussions on the subreddits differ greatly and we need not worry that we are unable to accurately filter the information from the subreddits to the correct trading desks. Additionally, we can anticipate with expectant hearts for the new leads & hot trends for both traditional securities and CryptoCurrency to be identified accurately. "
   ]
  },
  {
   "cell_type": "markdown",
   "id": "ded5327a",
   "metadata": {},
   "source": [
    "### Recommendations\n",
    "\n",
    "1. Be cautious of the word 'crypto' being used loosely. \n",
    "    - People new to investing may be unaware of the difference between traditional securities and CryptoCurrency.\n",
    "    \n",
    "2. Remain up-to-date in knowledge.\n",
    "    - Especially so for CryptoCurrency where there are new coins being discussed frequently, frequent training and knowledge can be shared among the employees of the trading company so that common acronyms that are frquently used would be caught on by the employees of the trading desk. This will prevent any real data that are not wrongly and mistakenly identified as a stopword to be excluded. \n",
    "    \n",
    "3. Expand the data collection beyond the subreddits.\n",
    "    - This subreddits may be a good starting point to identify the general sentiments and areas of interest within traditional securities and CryptoCurrency. However, this limits us to the users who engage in the subreddits only. There is a concern that the results from the subreddits are contributed by the same small group of people only. To ensure there is no bias, perhaps the collection of data from other social media platforms like 'Twitter' and 'YouTube' would allow us to garner a wider range of data from a wider audience as well.\n",
    "    \n",
    "4. Obtain greater computing power or more time to process a greater number of hyperparameters.\n",
    "    - Due to time and technological constraints, our model is ran against a few hyperparameters only. If the trading company has the time & capacity to allow for a more in-depth research to be done for the model and is able to provide greater technological support (like greater computing power), perhaps more hyperparameters can be included. For example, running against a wider rnage of maximum features and ngrams as well."
   ]
  }
 ],
 "metadata": {
  "kernelspec": {
   "display_name": "Python 3 (ipykernel)",
   "language": "python",
   "name": "python3"
  },
  "language_info": {
   "codemirror_mode": {
    "name": "ipython",
    "version": 3
   },
   "file_extension": ".py",
   "mimetype": "text/x-python",
   "name": "python",
   "nbconvert_exporter": "python",
   "pygments_lexer": "ipython3",
   "version": "3.8.12"
  }
 },
 "nbformat": 4,
 "nbformat_minor": 5
}
